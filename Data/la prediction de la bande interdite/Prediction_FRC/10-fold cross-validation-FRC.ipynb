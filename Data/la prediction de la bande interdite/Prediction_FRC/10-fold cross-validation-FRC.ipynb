{
 "cells": [
  {
   "cell_type": "code",
   "execution_count": null,
   "id": "2feb984e",
   "metadata": {},
   "outputs": [
    {
     "name": "stdout",
     "output_type": "stream",
     "text": [
      "Fold  0\n"
     ]
    },
    {
     "name": "stderr",
     "output_type": "stream",
     "text": [
      "C:\\Users\\Lenovo\\anaconda3\\lib\\site-packages\\sklearn\\ensemble\\_gb.py:286: FutureWarning: The loss 'ls' was deprecated in v1.0 and will be removed in version 1.2. Use 'squared_error' which is equivalent.\n",
      "  warnings.warn(\n"
     ]
    }
   ],
   "source": [
    "import numpy as np\n",
    "from sklearn.model_selection import LeaveOneGroupOut\n",
    "from numpy import loadtxt\n",
    "import scipy as sp\n",
    "from sklearn import ensemble\n",
    "from sklearn.metrics import mean_squared_error\n",
    "from sklearn.metrics import mean_absolute_error\n",
    "from sklearn.metrics import r2_score\n",
    "from math import sqrt\n",
    "from sklearn.model_selection import train_test_split\n",
    "from sklearn.model_selection import KFold\n",
    "import scipy.io as sio\n",
    "from sklearn.model_selection import cross_val_score\n",
    "\n",
    "kfold = 0\n",
    "ndata = 1346\n",
    "nrepeat = 1\n",
    "\n",
    "coddata = np.array([[0 for i in range(nrepeat) ] for j in range(kfold)], dtype=np.float64)\n",
    "maedata = np.array([[0 for i in range(nrepeat) ] for j in range(kfold)], dtype=np.float64)\n",
    "msedata = np.array([[0 for i in range(nrepeat) ] for j in range(kfold)], dtype=np.float64)\n",
    "\n",
    "cod_med = np.array([0 for i in range(kfold)], dtype=np.float64)\n",
    "mae_med = np.array([0 for i in range(kfold)], dtype=np.float64)\n",
    "mse_med = np.array([0 for i in range(kfold)], dtype=np.float64)\n",
    "\n",
    "\n",
    "X = loadtxt(\"ASorted_HOIP_FRC_bg.txt\", comments=\"#\", delimiter=\",\", unpack=False)\n",
    "y = loadtxt(\"ASorted_HOIP_bg.txt\", comments=\"#\", delimiter=\",\", unpack=False)\n",
    "\n",
    "\n",
    "n_splits = 10\n",
    "kf = KFold(n_splits=10, shuffle=True)\n",
    "\n",
    "ii=0\n",
    "for train_index, test_index in kf.split(X):\n",
    "    print(\"Fold \", ii)\n",
    "    \n",
    "    X_train, X_test = X[train_index], X[test_index]\n",
    "    y_train, y_test = y[train_index], y[test_index]\n",
    "    \n",
    "    for jj in range(nrepeat):\n",
    "    # GBT\n",
    "        params={'n_estimators': 20000, 'max_depth': 8, 'min_samples_split': 2,\n",
    "                'learning_rate': 0.001, 'loss': 'ls','max_features':'sqrt','subsample':0.7}\n",
    "        clf = ensemble.GradientBoostingRegressor(**params)\n",
    "        clf.fit(X_train, y_train)\n",
    "        y_pred = clf.predict(X_test) \n",
    "\n",
    "        cod = r2_score(y_test, y_pred)\n",
    "        mae = mean_absolute_error(y_test, y_pred)\n",
    "        mse = mean_squared_error(y_test, y_pred)\n",
    "   \n",
    "\n",
    "        print(cod, mae, mse)\n",
    "        \n",
    "        coddata[ii,jj] = cod\n",
    "        maedata[ii,jj] = mae\n",
    "        msedata[ii,jj] = mse\n",
    "       \n",
    "    ii=ii+1\n",
    "\n",
    "for kk in range(kfold):\n",
    "    \n",
    "    cod_med[kk] = np.median(coddata, axis=1)[kk]\n",
    "    print(\"CODmed :\", cod_med[kk])\n",
    "   \n",
    "    mae_med[kk] = np.median(maedata, axis=1)[kk]\n",
    "    print(\"MAEmed :\", mae_med[kk])\n",
    "    \n",
    "    mse_med[kk] = np.median(msedata, axis=1)[kk]\n",
    "    print(\"MSEmed :\", mse_med[kk])\n",
    "foutname = \"hoip_data_10fold_random.mat\"        \n",
    "sio.savemat(foutname, {\"CODmed\": cod_med, \"MAEmed\": mae_med, \"MSEmed\": mse_med })    \n",
    "        \n",
    "     "
   ]
  },
  {
   "cell_type": "code",
   "execution_count": null,
   "id": "19808701",
   "metadata": {},
   "outputs": [],
   "source": []
  }
 ],
 "metadata": {
  "kernelspec": {
   "display_name": "Python 3 (ipykernel)",
   "language": "python",
   "name": "python3"
  },
  "language_info": {
   "codemirror_mode": {
    "name": "ipython",
    "version": 3
   },
   "file_extension": ".py",
   "mimetype": "text/x-python",
   "name": "python",
   "nbconvert_exporter": "python",
   "pygments_lexer": "ipython3",
   "version": "3.9.13"
  }
 },
 "nbformat": 4,
 "nbformat_minor": 5
}
