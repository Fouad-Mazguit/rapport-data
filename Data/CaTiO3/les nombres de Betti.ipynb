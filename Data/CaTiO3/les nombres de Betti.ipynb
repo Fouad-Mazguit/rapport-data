{
 "cells": [
  {
   "cell_type": "markdown",
   "id": "a59718ec",
   "metadata": {},
   "source": [
    "# Ici on va importer les packages de Python"
   ]
  },
  {
   "cell_type": "code",
   "execution_count": 14,
   "id": "869beaf5",
   "metadata": {},
   "outputs": [],
   "source": [
    "import gudhi as gd\n",
    "import scipy.io as sio\n",
    "import math\n",
    "import matplotlib.pyplot as plt\n",
    "import numpy as np"
   ]
  },
  {
   "cell_type": "markdown",
   "id": "babbd114",
   "metadata": {},
   "source": [
    "# On donne les coordonnées de chaque atome "
   ]
  },
  {
   "cell_type": "code",
   "execution_count": 16,
   "id": "1b0cb9ee",
   "metadata": {},
   "outputs": [
    {
     "name": "stdout",
     "output_type": "stream",
     "text": [
      "c'est fait !\n"
     ]
    }
   ],
   "source": [
    "\n",
    "coords = {'Ti':[[5,5,5]], 'O':[[5, 5, 10], [5, 10, 5], [10, 5, 5], [5,0,5], [0, 5, 5], [5, 5, 0]]}\n",
    "coords['Ca'] = [[10, 10, 0], [10, 0, 0], [10, 0, 10], [10, 10, 10], [0, 10, 0], [0, 0, 0], [0, 0, 10], [0, 10, 10]]\n",
    "data = []\n",
    "for key, val in coords.items():\n",
    "    for j in val:\n",
    "        data.append(j)\n",
    "\n",
    "mat = np.zeros((len(data), len(data)))\n",
    "for i in range(len(data)):\n",
    "    for j in range(len(data)):\n",
    "        dist = np.linalg.norm(np.array(data[i])-np.array(data[j]))\n",
    "        mat[i][j] = dist\n",
    "\n",
    "rips = gd.AlphaComplex(data)\n",
    "st = rips.create_simplex_tree()\n",
    "dgmsalpha = st.persistence()\n",
    "\n",
    "betti0, betti1, betti2 = [], [], []\n",
    "for r in dgmsalpha:\n",
    "    if r[0] == 0:\n",
    "        betti0.append([r[1][0], r[1][1]])\n",
    "    elif r[0] == 1:\n",
    "        betti1.append([r[1][0], r[1][1]])\n",
    "    elif r[0] == 2:\n",
    "        betti2.append([r[1][0], r[1][1]])\n",
    "\n",
    "# Using circumradius, we take sqrt of F and multiply by 2  \n",
    "betti0 = np.array(np.sqrt(betti0)*2)\n",
    "betti1 = np.array(np.sqrt(betti1)*2)\n",
    "betti2 = np.array(np.sqrt(betti2)*2)\n",
    "betti = [betti0, betti1, betti2]\n",
    "\n",
    "betti0 = sorted(betti[0], key=lambda x: x[0])\n",
    "betti0 = np.flip(betti0, axis=0)\n",
    "betti1 = sorted(betti[1], key=lambda x: x[0])\n",
    "betti1 = np.flip(betti1, axis=0)\n",
    "betti2 = sorted(betti[2], key=lambda x: x[0])\n",
    "betti2 = np.flip(betti2, axis=0)\n",
    "\n",
    "sio.savemat(\"ABX3_gdalpha.mat\", {\"betti0\": betti0, \"betti1\": betti1, \"betti2\": betti2})\n",
    "print(\"c'est fait !\")"
   ]
  }
 ],
 "metadata": {
  "kernelspec": {
   "display_name": "Python 3 (ipykernel)",
   "language": "python",
   "name": "python3"
  },
  "language_info": {
   "codemirror_mode": {
    "name": "ipython",
    "version": 3
   },
   "file_extension": ".py",
   "mimetype": "text/x-python",
   "name": "python",
   "nbconvert_exporter": "python",
   "pygments_lexer": "ipython3",
   "version": "3.9.13"
  }
 },
 "nbformat": 4,
 "nbformat_minor": 5
}
