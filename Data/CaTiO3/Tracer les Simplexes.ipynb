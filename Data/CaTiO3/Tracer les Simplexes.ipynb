{
 "cells": [
  {
   "cell_type": "markdown",
   "id": "e8ed5e88",
   "metadata": {},
   "source": [
    "# Ici on va importer les packages de Python"
   ]
  },
  {
   "cell_type": "code",
   "execution_count": 4,
   "id": "d312552c",
   "metadata": {},
   "outputs": [],
   "source": [
    "from GeneralisedFormanRicci.frc import GeneralisedFormanRicci, gen_graph, n_faces\n",
    "import networkx as nx\n",
    "import numpy as np\n",
    "import plotly.graph_objects as go\n",
    "import math\n",
    "import matplotlib as mpl\n",
    "import matplotlib\n",
    "import plotly.io as pio\n",
    "import matplotlib.pyplot as plt"
   ]
  },
  {
   "cell_type": "markdown",
   "id": "635594f9",
   "metadata": {},
   "source": [
    "# On donne les coordonnées de chaque atome "
   ]
  },
  {
   "cell_type": "code",
   "execution_count": 5,
   "id": "a20bbab2",
   "metadata": {},
   "outputs": [],
   "source": [
    "coords = {'Ti':[[5,5,5]], 'O':[[5, 5, 10], [5, 10, 5], [10, 5, 5], [5,0,5], [0, 5, 5], [5, 5, 0]]}\n",
    "coords['Ca'] = [[10, 10, 0], [10, 0, 0], [10, 0, 10], [10, 10, 10], [0, 10, 0], [0, 0, 0], [0, 0, 10], [0, 10, 10]]"
   ]
  },
  {
   "cell_type": "code",
   "execution_count": 6,
   "id": "0ad9fb97",
   "metadata": {},
   "outputs": [],
   "source": [
    "data = []\n",
    "for key, val in coords.items():\n",
    "    for j in val:\n",
    "        data.append(j)\n",
    "\n",
    "def rotate_z(x, y, z, theta):\n",
    "    w = x+1j*y\n",
    "    return np.real(np.exp(1j*theta)*w), np.imag(np.exp(1j*theta)*w), z\n",
    "\n",
    "def matplotlib_to_plotly(cmap, pl_entries):\n",
    "    h = 1.0/(pl_entries-1)\n",
    "    pl_colorscale = []\n",
    "\n",
    "    for k in range(pl_entries):\n",
    "        C = list(map(np.uint8, np.array(cmap(k*h)[:3])*255))\n",
    "        pl_colorscale.append([k*h, 'rgb'+str((C[0], C[1], C[2]))])\n",
    "\n",
    "    return pl_colorscale"
   ]
  },
  {
   "cell_type": "markdown",
   "id": "4b039201",
   "metadata": {},
   "source": [
    "# Parametre de filtartion: f"
   ]
  },
  {
   "cell_type": "code",
   "execution_count": 9,
   "id": "21f170df",
   "metadata": {},
   "outputs": [],
   "source": [
    "\"\"\" Normalise Colormap to unique range \"\"\" \n",
    "seismic_cmap = matplotlib.cm.get_cmap('seismic')\n",
    "\n",
    "seismic_rgb = []\n",
    "norm = mpl.colors.Normalize(vmin=0, vmax=255)\n",
    "\n",
    "for i in range(0, 255):\n",
    "    k = mpl.colors.colorConverter.to_rgb(seismic_cmap(norm(i)))\n",
    "    seismic_rgb.append(k)\n",
    "\n",
    "seismic = matplotlib_to_plotly(seismic_cmap, 255)\n",
    "f = 0\n",
    "sc = GeneralisedFormanRicci(points = data, epsilon=f, method=\"rips\", p=2) \n",
    "G = gen_graph(list(n_faces(sc.S, 1)), sc.pts, sc.labels) # Get the Graph Network of Simplicial Complex\n",
    "node_dict = sc.compute_forman()[0] # Get the 0-simplex FRC values\n",
    "tri_dict = sc.compute_forman()[2] # Get the 2-simplex FRC values \n"
   ]
  },
  {
   "cell_type": "markdown",
   "id": "8d8d225a",
   "metadata": {},
   "source": [
    "# Le code pour tracer la représentation topologique de la molecule"
   ]
  },
  {
   "cell_type": "code",
   "execution_count": 10,
   "id": "cf874e06",
   "metadata": {},
   "outputs": [
    {
     "name": "stdout",
     "output_type": "stream",
     "text": [
      "c'est fait !\n"
     ]
    }
   ],
   "source": [
    "color_ref = {'Ca': 'purple', 'Ti': 'yellow', 'O': 'green'}\n",
    "\n",
    "edge_x = []\n",
    "edge_y = []\n",
    "edge_z = []\n",
    "for edge in G.edges():\n",
    "    x0, y0, z0 = G.nodes[edge[0]]['coords']\n",
    "    x1, y1, z1 = G.nodes[edge[1]]['coords']\n",
    "    edge_x.append(x0)\n",
    "    edge_x.append(x1)\n",
    "    edge_x.append(None)\n",
    "    edge_y.append(y0)\n",
    "    edge_y.append(y1)\n",
    "    edge_y.append(None)\n",
    "    edge_z.append(z0)\n",
    "    edge_z.append(z1)\n",
    "    edge_z.append(None)\n",
    "\n",
    "traces = []\n",
    "traces.append(go.Scatter3d(\n",
    "    x=edge_x, y=edge_y, z=edge_z,\n",
    "    line=dict(width=2, color='gray'),\n",
    "    hoverinfo='none', opacity=0.5,\n",
    "    mode='lines'))\n",
    "\n",
    "for key, val in coords.items():\n",
    "    node_x = []\n",
    "    node_y = []\n",
    "    node_z = []\n",
    "    for node in G.nodes():\n",
    "        x, y, z = G.nodes[node]['coords']\n",
    "        if [x,y,z] in val:\n",
    "            node_x.append(x)\n",
    "            node_y.append(y)\n",
    "            node_z.append(z)\n",
    "    \n",
    "    traces.append(go.Scatter3d(\n",
    "        x=node_x, y=node_y, z=node_z,\n",
    "        mode='markers',\n",
    "        hoverinfo='text',\n",
    "        marker=dict(\n",
    "            color=color_ref[key],\n",
    "            size=10, opacity=1, line=dict(color='black', width=10), colorbar=dict(thickness=20, outlinewidth=2, tickfont=dict(family='Arial', size=30))\n",
    "            ),\n",
    "            line_width=2))\n",
    "\n",
    "for key, val in tri_dict.items():\n",
    "    s = G.nodes[key[0]]['coords']\n",
    "    t = G.nodes[key[1]]['coords']\n",
    "    u = G.nodes[key[2]]['coords']\n",
    "    e = tri_dict[key]\n",
    "    #color = mpl.cm.coolwarm(norm(e), bytes=True)\n",
    "    #tri_c[key] = \"rgba({},{},{},{})\".format(color[0],color[1],color[2], color[3])\n",
    "    traces.append(go.Mesh3d(x=[s[0], t[0], u[0]], y=[s[1], t[1], u[1]], z=[s[2], t[2], u[2]], color='lightgray', opacity=.1))\n",
    "\n",
    "\n",
    "fig = go.Figure(data=traces,\n",
    "             layout=go.Layout(\n",
    "                showlegend=False,\n",
    "                hovermode='closest',\n",
    "                xaxis=dict(showgrid=False, zeroline=False, showticklabels=False),\n",
    "                yaxis=dict(showgrid=False, zeroline=False, showticklabels=False))\n",
    "                )\n",
    "fig.update_layout(plot_bgcolor='rgba(0,0,0,0)')\n",
    "\n",
    "vertices = list(G.nodes())\n",
    "\n",
    "fig.update_layout(width=800,\n",
    "    height=800, scene = dict(\n",
    "    xaxis=dict(\n",
    "    autorange=True,\n",
    "    showgrid=False,\n",
    "    zeroline=False,\n",
    "    showline=False,\n",
    "    showbackground=False,\n",
    "    title='',\n",
    "    ticks='',\n",
    "    showticklabels=False\n",
    "),\n",
    "yaxis=dict(\n",
    "    autorange=True,\n",
    "    showgrid=False,\n",
    "    zeroline=False,\n",
    "    showline=False,\n",
    "    showbackground=False,\n",
    "    ticks='',\n",
    "    title='',\n",
    "    showticklabels=False\n",
    "),\n",
    "zaxis=dict(\n",
    "    autorange=True,\n",
    "    showgrid=False,\n",
    "    zeroline=False,\n",
    "    showline=False,\n",
    "    showbackground=False,\n",
    "    title='',\n",
    "    ticks='',\n",
    "    showticklabels=False\n",
    ")))\n",
    "\n",
    "xe, ye, ze = rotate_z(0, 0, 1.75, -.1)\n",
    "camera = dict(\n",
    "    up=dict(x=0, y=1, z=0),\n",
    "    center=dict(x=0, y=0, z=0),\n",
    "    eye=dict(x=xe, y=ye, z=ze)\n",
    ")\n",
    "\n",
    "fig.update_layout(scene_camera=camera, scene_dragmode='orbit')\n",
    "fig.write_html(\"ABX3_graph_{}.html\".format(f))\n",
    "print(\"c'est fait !\")"
   ]
  },
  {
   "cell_type": "code",
   "execution_count": null,
   "id": "88c78d18",
   "metadata": {},
   "outputs": [],
   "source": []
  }
 ],
 "metadata": {
  "kernelspec": {
   "display_name": "Python 3 (ipykernel)",
   "language": "python",
   "name": "python3"
  },
  "language_info": {
   "codemirror_mode": {
    "name": "ipython",
    "version": 3
   },
   "file_extension": ".py",
   "mimetype": "text/x-python",
   "name": "python",
   "nbconvert_exporter": "python",
   "pygments_lexer": "ipython3",
   "version": "3.9.13"
  }
 },
 "nbformat": 4,
 "nbformat_minor": 5
}
