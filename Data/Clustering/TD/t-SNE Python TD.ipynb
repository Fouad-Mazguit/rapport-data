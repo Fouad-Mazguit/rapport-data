{
 "cells": [
  {
   "cell_type": "code",
   "execution_count": 1,
   "id": "c32e8856",
   "metadata": {},
   "outputs": [
    {
     "name": "stdout",
     "output_type": "stream",
     "text": [
      "(4500, 32)\n"
     ]
    },
    {
     "name": "stderr",
     "output_type": "stream",
     "text": [
      "C:\\Users\\Lenovo\\anaconda3\\lib\\site-packages\\sklearn\\manifold\\_t_sne.py:780: FutureWarning: The default initialization in TSNE will change from 'random' to 'pca' in 1.2.\n",
      "  warnings.warn(\n",
      "C:\\Users\\Lenovo\\anaconda3\\lib\\site-packages\\sklearn\\manifold\\_t_sne.py:790: FutureWarning: The default learning rate in TSNE will change from 200.0 to 'auto' in 1.2.\n",
      "  warnings.warn(\n"
     ]
    },
    {
     "name": "stdout",
     "output_type": "stream",
     "text": [
      "[[ -5.6344767   3.3560174]\n",
      " [ -7.4533095   1.2070453]\n",
      " [ -4.987011    2.504408 ]\n",
      " ...\n",
      " [-19.86449   -20.12702  ]\n",
      " [-19.86449   -20.12702  ]\n",
      " [-17.309727  -17.338493 ]]\n",
      "[t-SNE] Computing 91 nearest neighbors...\n",
      "[t-SNE] Indexed 4500 samples in 0.001s...\n"
     ]
    },
    {
     "name": "stderr",
     "output_type": "stream",
     "text": [
      "C:\\Users\\Lenovo\\anaconda3\\lib\\site-packages\\sklearn\\manifold\\_t_sne.py:780: FutureWarning: The default initialization in TSNE will change from 'random' to 'pca' in 1.2.\n",
      "  warnings.warn(\n",
      "C:\\Users\\Lenovo\\anaconda3\\lib\\site-packages\\sklearn\\manifold\\_t_sne.py:790: FutureWarning: The default learning rate in TSNE will change from 200.0 to 'auto' in 1.2.\n",
      "  warnings.warn(\n"
     ]
    },
    {
     "name": "stdout",
     "output_type": "stream",
     "text": [
      "[t-SNE] Computed neighbors for 4500 samples in 0.426s...\n",
      "[t-SNE] Computed conditional probabilities for sample 1000 / 4500\n",
      "[t-SNE] Computed conditional probabilities for sample 2000 / 4500\n",
      "[t-SNE] Computed conditional probabilities for sample 3000 / 4500\n",
      "[t-SNE] Computed conditional probabilities for sample 4000 / 4500\n",
      "[t-SNE] Computed conditional probabilities for sample 4500 / 4500\n",
      "[t-SNE] Mean sigma: 0.000000\n",
      "[t-SNE] Computed conditional probabilities in 1.769s\n",
      "[t-SNE] Iteration 50: error = 68.7664642, gradient norm = 0.1143399 (50 iterations in 2.061s)\n",
      "[t-SNE] Iteration 100: error = 50.7770615, gradient norm = 0.0599452 (50 iterations in 1.684s)\n",
      "[t-SNE] Iteration 150: error = 47.6153831, gradient norm = 0.0475906 (50 iterations in 1.541s)\n",
      "[t-SNE] Iteration 200: error = 44.2839127, gradient norm = 0.0382839 (50 iterations in 1.727s)\n",
      "[t-SNE] Iteration 250: error = 43.2811203, gradient norm = 0.0353395 (50 iterations in 1.320s)\n",
      "[t-SNE] KL divergence after 250 iterations with early exaggeration: 43.281120\n",
      "[t-SNE] Iteration 300: error = 0.7174292, gradient norm = 0.0009641 (50 iterations in 1.163s)\n",
      "[t-SNE] Iteration 350: error = 0.5754646, gradient norm = 0.0003204 (50 iterations in 1.141s)\n",
      "[t-SNE] Iteration 400: error = 0.5174362, gradient norm = 0.0001806 (50 iterations in 1.165s)\n",
      "[t-SNE] Iteration 450: error = 0.4888323, gradient norm = 0.0001487 (50 iterations in 1.134s)\n",
      "[t-SNE] Iteration 500: error = 0.4726468, gradient norm = 0.0000904 (50 iterations in 1.126s)\n",
      "[t-SNE] Iteration 550: error = 0.4620541, gradient norm = 0.0000889 (50 iterations in 1.097s)\n",
      "[t-SNE] Iteration 600: error = 0.4543610, gradient norm = 0.0000622 (50 iterations in 1.121s)\n",
      "[t-SNE] Iteration 650: error = 0.4486008, gradient norm = 0.0000487 (50 iterations in 1.153s)\n",
      "[t-SNE] Iteration 700: error = 0.4444827, gradient norm = 0.0000792 (50 iterations in 1.106s)\n",
      "[t-SNE] Iteration 750: error = 0.4416521, gradient norm = 0.0000443 (50 iterations in 1.133s)\n",
      "[t-SNE] Iteration 800: error = 0.4394269, gradient norm = 0.0000368 (50 iterations in 1.195s)\n",
      "[t-SNE] Iteration 850: error = 0.4368448, gradient norm = 0.0000382 (50 iterations in 1.130s)\n",
      "[t-SNE] Iteration 900: error = 0.4349616, gradient norm = 0.0000397 (50 iterations in 1.287s)\n",
      "[t-SNE] Iteration 950: error = 0.4331563, gradient norm = 0.0002447 (50 iterations in 1.221s)\n",
      "[t-SNE] Iteration 1000: error = 0.4306609, gradient norm = 0.0000332 (50 iterations in 1.128s)\n",
      "[t-SNE] KL divergence after 1000 iterations: 0.430661\n"
     ]
    },
    {
     "data": {
      "image/png": "[encoded data removed]",
      "text/plain": [
       "<Figure size 1000x1000 with 1 Axes>"
      ]
     },
     "metadata": {},
     "output_type": "display_data"
    }
   ],
   "source": [
    "import numpy as np\n",
    "from numpy import loadtxt\n",
    "import matplotlib.pyplot as plt\n",
    "import matplotlib as mpl\n",
    "from matplotlib.patches import Rectangle\n",
    "import matplotlib.colors as mcolors\n",
    "import scipy.io as sio\n",
    "from sklearn.decomposition import PCA, KernelPCA, SparsePCA\n",
    "from mpl_toolkits.mplot3d import Axes3D\n",
    "from sklearn.manifold import TSNE\n",
    "from sklearn.metrics import accuracy_score\n",
    "from sklearn.neighbors import KNeighborsClassifier\n",
    "from sklearn.model_selection import KFold\n",
    "import openTSNE\n",
    "\n",
    "\n",
    "xdat = loadtxt(\"tSNE_MDdata.dat\", comments=\"#\", delimiter=\",\", unpack=False)\n",
    "print(np.shape(xdat))\n",
    "\n",
    "model = TSNE(n_components=2, random_state=0)\n",
    "x=xdat\n",
    "rd = model.fit_transform(x) \n",
    "print(rd)\n",
    "\n",
    "frd = 1000; frs = 500\n",
    "\n",
    "values = TSNE(n_components=2, verbose=2).fit_transform(x)\n",
    "\n",
    "plt.figure(figsize=(5,5), dpi=200)\n",
    "mpl.rcParams['axes.spines.right'] = False\n",
    "mpl.rcParams['axes.spines.top'] = False\n",
    "plt.scatter(values[:frd-frs+1,0], values[:frd-frs+1,1], marker='.', color='tab:blue', alpha=0.75, linewidth=.5, s=20, label=\"Br-Cubic\")\n",
    "plt.scatter(values[frd-frs+1:2*(frd-frs+1),0], values[frd-frs+1:2*(frd-frs+1),1], marker='.', color='tab:orange', alpha=0.75,  linewidth=0.5, s=20, label=\"Br-Ortho\")\n",
    "plt.scatter(values[2*(frd-frs+1):3*(frd-frs+1),0], values[2*(frd-frs+1):3*(frd-frs+1),1], marker='.', color='tab:green', alpha=0.75,  linewidth=0.5, s=20, label=\"Br-Tetra\")\n",
    "\n",
    "plt.scatter(values[3*(frd-frs+1):4*(frd-frs+1),0], values[3*(frd-frs+1):4*(frd-frs+1),1], marker='.', color='tab:red', alpha=0.75,  linewidth=0.5, s=20, label=\"Cl-Cubic\")\n",
    "plt.scatter(values[4*(frd-frs+1):5*(frd-frs+1),0], values[4*(frd-frs+1):5*(frd-frs+1),1], marker='.', color='tab:purple', alpha=0.75,  linewidth=0.5, s=20, label=\"Cl-Ortho\")\n",
    "plt.scatter(values[5*(frd-frs+1):6*(frd-frs+1),0], values[5*(frd-frs+1):6*(frd-frs+1),1], marker='.', color='tab:brown', alpha=0.75,  linewidth=0.5, s=20, label=\"Cl-Tetra\")\n",
    "\n",
    "plt.scatter(values[6*(frd-frs+1):7*(frd-frs+1),0], values[6*(frd-frs+1):7*(frd-frs+1),1],  marker='.',color='tab:pink', alpha=0.75,  linewidth=0.5, s=20, label=\"I-Cubic\")\n",
    "plt.scatter(values[7*(frd-frs+1):8*(frd-frs+1),0], values[7*(frd-frs+1):8*(frd-frs+1),1],  marker='.',color='tab:gray', alpha=0.75,  linewidth=0.5, s=20, label=\"I-Ortho\")\n",
    "plt.scatter(values[8*(frd-frs+1):9*(frd-frs+1),0], values[8*(frd-frs+1):9*(frd-frs+1),1],  marker='.',color='tab:olive', alpha=0.75,  linewidth=0.5, s=20, label=\"I-Tetra\")\n",
    "\n",
    "#plt.ylim(np.min(values[:, 1])-10, np.max(values[:,1])+50)\n",
    "#plt.xlim(-100, 100)\n",
    "#plt.legend(ncol=3, loc='upper left', handlelength=.5, borderpad=.25, fontsize=10)\n",
    "plt.axis('equal')\n",
    "plt.xticks([])\n",
    "plt.yticks([])\n",
    "plt.savefig(\"MAPbX3_Clustering_TD_tSNE.png\", dpi=400)"
   ]
  },
  {
   "cell_type": "code",
   "execution_count": null,
   "id": "af8325c0",
   "metadata": {},
   "outputs": [],
   "source": []
  }
 ],
 "metadata": {
  "kernelspec": {
   "display_name": "Python 3 (ipykernel)",
   "language": "python",
   "name": "python3"
  },
  "language_info": {
   "codemirror_mode": {
    "name": "ipython",
    "version": 3
   },
   "file_extension": ".py",
   "mimetype": "text/x-python",
   "name": "python",
   "nbconvert_exporter": "python",
   "pygments_lexer": "ipython3",
   "version": "3.9.13"
  }
 },
 "nbformat": 4,
 "nbformat_minor": 5
}
